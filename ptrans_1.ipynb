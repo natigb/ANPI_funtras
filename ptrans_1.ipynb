{
 "cells": [
  {
   "cell_type": "markdown",
   "metadata": {},
   "source": [
    "**Compute determinant of matrix**"
   ]
  },
  {
   "cell_type": "code",
   "execution_count": 9,
   "metadata": {},
   "outputs": [
    {
     "data": {
      "text/plain": [
       "det_penta (generic function with 1 method)"
      ]
     },
     "execution_count": 9,
     "metadata": {},
     "output_type": "execute_result"
    }
   ],
   "source": [
    "function is_pent_diag(M)\n",
    "    for (i, row) in enumerate(eachrow(M))\n",
    "        for (j, col) in enumerate(eachindex(row))\n",
    "            if(abs(i-j) > 2)\n",
    "                if(M[i,j] != 0)\n",
    "                    return false\n",
    "                end\n",
    "            end\n",
    "        end\n",
    "    end\n",
    "    return true\n",
    "end\n",
    "\n",
    "function det_penta(M)\n",
    "    if(is_pent_diag(M))\n",
    "        Pi_4 = M[1,1] #P1 = Pi_4\n",
    "        Pi_3 = M[2,2]*Pi_4 - M[2,1]*M[1,2] # P2 = Pi_3\n",
    "        Ri_3 = M[1,2] #R2 = Ri_3 \n",
    "        Si_3 = M[2,1] #S2 = Si_3\n",
    "        Pi_2 = M[3,3]*Pi_3 - M[3,2]*M[2,3]*Pi_4 - M[3,1]*M[1,3]*M[2,2] + M[3,1]*M[2,3]*Ri_3 + M[3,2]*M[1,3]*Si_3 #P3 = Pi_2\n",
    "        Ri_2 = M[2,3]*Pi_4 - M[1,3]*Si_3 #R3 = Ri_2\n",
    "        Si_2 = M[3,2]*Pi_4 - M[3,1]*Ri_3 #S3 = Si_2\n",
    "        Pi_1 = M[4,4]*Pi_2 - M[4,3]*M[3,4]*Pi_3 - M[4,2]*M[2,4]*(M[3,3]*Pi_4 - M[3,1]*M[1,3]) + M[4,2]*M[3,4]*Ri_2 + M[4,3]*M[2,4]*Si_2 #P4 = Pi_1\n",
    "        n = size(M,1)\n",
    "        Pi = 0\n",
    "        for i = 5:n\n",
    "            Ri_1 = M[i-2,i-1]*Pi_3 - M[i-3,i-1]*Si_2\n",
    "            Si_1 = M[i-1,i-2]*Pi_3 - M[i-1,i-3]*Ri_2\n",
    "            Pi = M[i,i]*Pi_1 - M[i,i-1]*M[i-1,i]*Pi_2 - \n",
    "            M[i,i-2]*M[i-2,i]*(M[i-1,i-1]*Pi_3 - M[i-1,i-3]*M[i-3,i-1]*Pi_4) +\n",
    "            M[i,i-2]*M[i-1,i]*Ri_1 + M[i,i-1]*M[i-2,i]*Si_1\n",
    "\n",
    "            Pi_4 = Pi_3\n",
    "            Pi_3 = Pi_2\n",
    "            Pi_2 = Pi_1\n",
    "            Pi_1 = Pi\n",
    "\n",
    "            Ri_3 = Ri_2\n",
    "            Ri_2 = Ri_1\n",
    "            \n",
    "            Si_3 = Si_2\n",
    "            Si_2 = Si_1\n",
    "        end\n",
    "        return Pi\n",
    "    else\n",
    "        print(\"is not pentadiagonal\")\n",
    "        return 0\n",
    "    end\n",
    "end"
   ]
  },
  {
   "cell_type": "markdown",
   "metadata": {},
   "source": [
    "**Define linear ecuacion to solve and its components**"
   ]
  },
  {
   "cell_type": "code",
   "execution_count": 19,
   "metadata": {},
   "outputs": [
    {
     "data": {
      "text/plain": [
       "6-element Vector{Int64}:\n",
       "  0\n",
       "  0\n",
       "  8\n",
       " 12\n",
       "  7\n",
       "  3"
      ]
     },
     "execution_count": 19,
     "metadata": {},
     "output_type": "execute_result"
    }
   ],
   "source": [
    "#Defined as Px=Y\n",
    "P = [\n",
    "        [1 2 3 0 0 0];\n",
    "        [4 5 6 7 0 0];\n",
    "        [8 9 10 11 12 0];\n",
    "        [0 12 11 10 9 8];\n",
    "        [0 0 7 6 5 4];\n",
    "        [0 0 0 3 2 1];\n",
    "        ]\n",
    "\n",
    "Y = [7,5,1,7,9,5]\n",
    "\n",
    "#Components \n",
    "d = [1,5,10,10,5,1]\n",
    "a = [2,6,11,9,4,0]\n",
    "b = [3,7,12,8,0,0]\n",
    "c = [0,4,9,11,6,2]\n",
    "e = [0,0,8,12,7,3]"
   ]
  },
  {
   "cell_type": "markdown",
   "metadata": {},
   "source": [
    "**Function ptrans_1**"
   ]
  },
  {
   "cell_type": "code",
   "execution_count": 24,
   "metadata": {},
   "outputs": [
    {
     "data": {
      "text/plain": [
       "ptrans_1 (generic function with 1 method)"
      ]
     },
     "execution_count": 24,
     "metadata": {},
     "output_type": "execute_result"
    }
   ],
   "source": [
    "function ptrans_1(n, d, a, b, c, e)\n",
    "    \n",
    "    #Define arrays\n",
    "    alpha = zeros(n)\n",
    "    beta = zeros(n)\n",
    "    gamma = zeros(n)\n",
    "    miu = zeros(n)\n",
    "    zeta = zeros(n)\n",
    "    X = zeros(n)\n",
    "    \n",
    "    #Check determinant\n",
    "    if det_penta(mat) == 0\n",
    "        print(\"No Solutions\")\n",
    "    else \n",
    "        #Fill i=1,2\n",
    "        miu[1] = d[1]\n",
    "        alpha[1] = a[1]/miu[1]\n",
    "        beta[1] = b[1]/miu[1]\n",
    "        zeta[1] = Y[1]/miu[1]\n",
    "        gamma[2] = c[2]\n",
    "        miu[2] = d[2] - (alpha[1]*gamma[2])\n",
    "        alpha[2] = (a[2] - beta[1]*gamma[2])/miu[2]\n",
    "        beta[2] = b[2]/miu[2]\n",
    "        zeta[2] = (gamma[2] - zeta[1]*gamma[2])/miu[2]\n",
    "        #Fill i=3...n-2\n",
    "        for k in 3:(n-2)\n",
    "            gamma[k] = c[k] - (alpha[k-2]*e[k])\n",
    "            miu[k] = d[k] - (beta[k-2]*e[k] - alpha[k-1]*gamma[k])\n",
    "            alpha[k] = (a[k] - beta[k-1]*gamma[k])/miu[k]\n",
    "            beta[k] = b[k]/miu[k]\n",
    "            zeta[k] = (Y[k] - zeta[k-2]*e[k] - zeta[k-1]*gamma[k])/miu[k]\n",
    "        end\n",
    "        #Fill i=n-1,n\n",
    "        gamma[n-1] = c[n-1] - alpha[n-3]*e[n-1]\n",
    "        miu[n-1] = d[n-1] - beta[n-3]*e[n-1] - alpha[n-2]*gamma[n-1]\n",
    "        alpha[n-1] = (alpha[n-1] - beta[n-2]*gamma[n-1])/miu[n-1]\n",
    "        gamma[n] = c[n] - alpha[n-2]*e[n]\n",
    "        miu[n] = d[n] - beta[n-2]*e[n] - alpha[n-1]*gamma[n]\n",
    "        zeta[n-1] = (Y[n-1] - zeta[n-1]*e[n-1] - zeta[n-2]*gamma[n-1])/miu[n-1]\n",
    "        zeta[n] = (Y[n] - zeta[n-1]*e[n] - zeta[n-1]*gamma[n])/miu[n]        \n",
    "        #Solution Vector X\n",
    "        X[n] = zeta[n]\n",
    "        X[n-1] = zeta[n-1] - alpha[n-1]*X[n]\n",
    "        for i in n-2:-1:1\n",
    "            X[i] = zeta[i] - alpha[i]*X[i+1] - beta[i]*X[i+2]\n",
    "        end\n",
    "    end\n",
    "    print(X)\n",
    "end"
   ]
  },
  {
   "cell_type": "markdown",
   "metadata": {},
   "source": [
    "**Testing function**"
   ]
  },
  {
   "cell_type": "code",
   "execution_count": 25,
   "metadata": {},
   "outputs": [
    {
     "name": "stdout",
     "output_type": "stream",
     "text": [
      "[-11.557988378268156, 8.998034643665273, 0.18730636364587006, 0.5882774446958625, 0.7818381572607469, -14.130341196820757]"
     ]
    }
   ],
   "source": [
    "ptrans_1(6,d,a,b,c,e)"
   ]
  }
 ],
 "metadata": {
  "kernelspec": {
   "display_name": "Julia 1.8.0",
   "language": "julia",
   "name": "julia-1.8"
  },
  "language_info": {
   "file_extension": ".jl",
   "mimetype": "application/julia",
   "name": "julia",
   "version": "1.8.0"
  }
 },
 "nbformat": 4,
 "nbformat_minor": 4
}
